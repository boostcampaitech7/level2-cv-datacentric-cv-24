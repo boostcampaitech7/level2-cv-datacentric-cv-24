{
 "cells": [
  {
   "cell_type": "code",
   "execution_count": 13,
   "metadata": {},
   "outputs": [
    {
     "name": "stdout",
     "output_type": "stream",
     "text": [
      "필터링된 데이터를 'filtered_data.csv'로 저장했습니다.\n"
     ]
    }
   ],
   "source": [
    "import json\n",
    "import math\n",
    "import os\n",
    "\n",
    "# JSON 파일 로드\n",
    "with open('../predictions/output.csv', 'r', encoding='utf-8') as file:  # CSV 대신 JSON 파일 로드\n",
    "    data = json.load(file)\n",
    "\n",
    "# 각도 계산 함수\n",
    "def calculate_angle(points):\n",
    "    # 상단 두 점의 기울기로 각도를 계산합니다.\n",
    "    (x1, y1), (x2, y2) = points[0], points[1]\n",
    "    \n",
    "    # 각도 계산 (라디안 -> 도)\n",
    "    angle = math.degrees(math.atan2(y2 - y1, x2 - x1))\n",
    "    return abs(angle)\n",
    "\n",
    "# 각도 필터링 함수\n",
    "def filter_boxes_by_angle(data, threshold=10):\n",
    "    filtered_data = {\"images\": {}}\n",
    "    \n",
    "    for image_name, image_data in data[\"images\"].items():\n",
    "        filtered_words = {}\n",
    "        \n",
    "        for word_id, word_data in image_data[\"words\"].items():\n",
    "            points = word_data[\"points\"]\n",
    "            angle = calculate_angle(points)\n",
    "            \n",
    "            # 설정한 임계각도(threshold) 이하인 경우만 유지\n",
    "            if angle <= threshold:\n",
    "                filtered_words[word_id] = word_data\n",
    "        \n",
    "        # 필터링된 단어가 있는 경우만 이미지 추가\n",
    "        if filtered_words:\n",
    "            filtered_data[\"images\"][image_name] = {\"words\": filtered_words}\n",
    "    \n",
    "    return filtered_data\n",
    "\n",
    "# 필터링 적용\n",
    "threshold_angle = 10 # 원하는 임계각도 설정\n",
    "filtered_data = filter_boxes_by_angle(data, threshold=threshold_angle)\n",
    "\n",
    "# 폴더가 없으면 생성\n",
    "os.makedirs('../predictions', exist_ok=True)\n",
    "\n",
    "# 결과를 JSON 파일로 저장\n",
    "with open('../predictions/filtered_data.csv', 'w', encoding='utf-8') as file:\n",
    "    json.dump(filtered_data, file, ensure_ascii=False, indent=4)\n",
    "print(\"필터링된 데이터를 'filtered_data.csv'로 저장했습니다.\")\n"
   ]
  }
 ],
 "metadata": {
  "kernelspec": {
   "display_name": "base",
   "language": "python",
   "name": "python3"
  },
  "language_info": {
   "codemirror_mode": {
    "name": "ipython",
    "version": 3
   },
   "file_extension": ".py",
   "mimetype": "text/x-python",
   "name": "python",
   "nbconvert_exporter": "python",
   "pygments_lexer": "ipython3",
   "version": "3.10.15"
  }
 },
 "nbformat": 4,
 "nbformat_minor": 2
}
